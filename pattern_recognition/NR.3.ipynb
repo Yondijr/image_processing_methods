{
 "cells": [
  {
   "cell_type": "markdown",
   "metadata": {},
   "source": [
    "# Laboratory work №1. Potentials method"
   ]
  },
  {
   "cell_type": "markdown",
   "metadata": {},
   "source": [
    "You need to implement the modified potentials method and show how it works on any dataset."
   ]
  },
  {
   "cell_type": "markdown",
   "metadata": {},
   "source": [
    "### This notebook features: \n",
    "    - Picture import\n",
    "    - Two encoding functions\n",
    "    - Distance measure\n",
    "    - Comparison matrix between pictures\n",
    "    - Pattern search method (pattern in bigger picture)"
   ]
  },
  {
   "cell_type": "code",
   "execution_count": 222,
   "metadata": {},
   "outputs": [],
   "source": [
    "import imageio\n",
    "import glob\n",
    "import numpy as np\n",
    "import matplotlib.pyplot as plt\n",
    "import pandas as pd"
   ]
  },
  {
   "cell_type": "code",
   "execution_count": 223,
   "metadata": {},
   "outputs": [],
   "source": [
    "# get all the poctures\n",
    "pics = []\n",
    "for image_path in glob.glob(\"nr3_pics/*.bmp\"):\n",
    "    image = imageio.imread(image_path)\n",
    "    pics.append(np.array(image)) \n",
    "#hack because weird picture:\n",
    "tests = pics[11:15]\n",
    "a = pics[15]\n",
    "pics = pics[:11]\n",
    "pics.append(a)"
   ]
  },
  {
   "cell_type": "markdown",
   "metadata": {},
   "source": [
    "## Function Definitions"
   ]
  },
  {
   "cell_type": "code",
   "execution_count": 211,
   "metadata": {},
   "outputs": [],
   "source": [
    "#display function\n",
    "def display(image,nbrs = False):\n",
    "    plt.imshow(image)\n",
    "    if nbrs == True:\n",
    "        print(image)\n",
    "    plt.show()"
   ]
  },
  {
   "cell_type": "code",
   "execution_count": 195,
   "metadata": {},
   "outputs": [],
   "source": [
    "#returns vanilla potential\n",
    "def encode_vanilla(image):\n",
    "    potential = np.zeros((len(image),len(image[0])))\n",
    "    for x in range(len(image)):\n",
    "        for y in range(len(image[0])):\n",
    "            if image[x][y] == 0: \n",
    "                potential[x][y] = 1\n",
    "    return potential   "
   ]
  },
  {
   "cell_type": "code",
   "execution_count": 196,
   "metadata": {},
   "outputs": [],
   "source": [
    "#returns our improved potential\n",
    "def encode_improved(image):\n",
    "    potential = np.zeros((len(image),len(image[0])))\n",
    "    for x in range(len(image)):\n",
    "        for y in range(len(image[0])):\n",
    "            if image[x][y] == 0: \n",
    "                if x>0 and y>0: \n",
    "                    potential[x-1:x+2,y-1:y+2] += 0.5\n",
    "                    potential[x][y] +=0.5\n",
    "                else:\n",
    "                    if x== 0 and y == 0: \n",
    "                        potential[x:x+2,y:y+2] += 0.5\n",
    "                        potential[x][y] +=0.5\n",
    "                    elif x == 0:\n",
    "                        potential[x:x+2,y-1:y+2] += 0.5\n",
    "                        potential[x][y] +=0.5\n",
    "                    elif y == 0:\n",
    "                        potential[x-1:x+2,y:y+2] += 0.5\n",
    "                        potential[x][y] +=0.5\n",
    "    return potential    "
   ]
  },
  {
   "cell_type": "code",
   "execution_count": 197,
   "metadata": {},
   "outputs": [],
   "source": [
    "#calcs the distance between the two potentials\n",
    "def euclidean(img1,img2):\n",
    "    a = img1.flatten()\n",
    "    b = img2.flatten()\n",
    "    dist = np.linalg.norm(a-b)\n",
    "    return dist"
   ]
  },
  {
   "cell_type": "code",
   "execution_count": 224,
   "metadata": {},
   "outputs": [],
   "source": [
    "# matrix comparison between pictures\n",
    "def potentials(pictures):\n",
    "    out = []\n",
    "    for x in pictures:\n",
    "        a = encode_improved(x)\n",
    "        for y in pictures:\n",
    "            b = encode_improved(y)\n",
    "            out.append(euclidean(a,b))\n",
    "    out = np.reshape(np.array(out),(12,12))\n",
    "    print(\"Potential Matrix for all pictures:\")\n",
    "    return pd.DataFrame(out,columns = (0,1,2,3,4,5,6,7,8,9,10,11),index = (0,1,2,3,4,5,6,7,8,9,10,11))\n",
    "            "
   ]
  },
  {
   "cell_type": "code",
   "execution_count": 208,
   "metadata": {},
   "outputs": [],
   "source": [
    "# searches a pattern in a bigger picture\n",
    "def pattern_search(picture,searchitem):\n",
    "    # convert picture to black white: \n",
    "    picture = picture.T[0].T\n",
    "    itemenc = encode_improved(searchitem)\n",
    "    size = picture.shape\n",
    "    distanceMap = np.zeros((size[0]-itemenc.shape[0],size[1]-itemenc.shape[1]))\n",
    "    for x in range(size[0]-itemenc.shape[0]):\n",
    "        for y in range(size[1]-itemenc.shape[1]):\n",
    "            part = picture[x:x+itemenc.shape[0],y:y+itemenc.shape[1]]\n",
    "            part = encode_improved(part)\n",
    "            distanceMap[x][y] = euclidean(part,itemenc)\n",
    "    best = np.argmax(distanceMap)\n",
    "    corner = get_index(distanceMap)\n",
    "    cut = picture[corner[0]:corner[0]+10,corner[1]:corner[1]+10]\n",
    "    mark = draw_square(picture,corner,searchitem.shape)\n",
    "    return (cut,searchitem,mark)"
   ]
  },
  {
   "cell_type": "code",
   "execution_count": 209,
   "metadata": {},
   "outputs": [],
   "source": [
    "# helper\n",
    "def get_index(distanceMap):\n",
    "    maxi = np.argmin(distanceMap)\n",
    "    width = distanceMap.shape[0]\n",
    "    column = int(maxi%width)\n",
    "    row = int((maxi-column)/width)\n",
    "    return(row,column)"
   ]
  },
  {
   "cell_type": "code",
   "execution_count": 219,
   "metadata": {},
   "outputs": [],
   "source": [
    "# mark the selected region \n",
    "def draw_square(picture,edge,size):\n",
    "    picture[edge[0]-1][edge[1]-1:edge[1]-1+size[0]+2] = np.zeros((size[1]+2))\n",
    "    picture[edge[0]-2][edge[1]-1:edge[1]-1+size[0]+2] = np.zeros((size[1]+2))\n",
    "    picture[edge[0]+10][edge[1]-1:edge[1]-1+size[0]+2] = np.zeros((size[1]+2))\n",
    "    picture[edge[0]+11][edge[1]-1:edge[1]-1+size[0]+2] = np.zeros((size[1]+2))\n",
    "    for x in range(size[0]):\n",
    "        picture[edge[0]+x][edge[1]-1] = 0\n",
    "        picture[edge[0]+x][edge[1]+10] = 0\n",
    "        picture[edge[0]+x][edge[1]-2] = 0\n",
    "        picture[edge[0]+x][edge[1]+11] = 0  \n",
    "    return picture    "
   ]
  },
  {
   "cell_type": "code",
   "execution_count": 226,
   "metadata": {},
   "outputs": [],
   "source": [
    "# test example\n",
    "def display_potential_method(pic):\n",
    "    results = pattern_search(tests[0],pic)\n",
    "    print(\"real pattern\")\n",
    "    display(results[1])\n",
    "    print(\"found match\")\n",
    "    display(results[0])\n",
    "    print(\"The best pattern that was selected based on potential was marked.\")\n",
    "    display(results[2])"
   ]
  },
  {
   "cell_type": "markdown",
   "metadata": {},
   "source": [
    "--------------------------------------------------------------------------------------------------------------------"
   ]
  },
  {
   "cell_type": "code",
   "execution_count": 199,
   "metadata": {},
   "outputs": [
    {
     "name": "stdout",
     "output_type": "stream",
     "text": [
      "Potential Matrix for all pictures:\n"
     ]
    },
    {
     "data": {
      "text/html": [
       "<div>\n",
       "<style scoped>\n",
       "    .dataframe tbody tr th:only-of-type {\n",
       "        vertical-align: middle;\n",
       "    }\n",
       "\n",
       "    .dataframe tbody tr th {\n",
       "        vertical-align: top;\n",
       "    }\n",
       "\n",
       "    .dataframe thead th {\n",
       "        text-align: right;\n",
       "    }\n",
       "</style>\n",
       "<table border=\"1\" class=\"dataframe\">\n",
       "  <thead>\n",
       "    <tr style=\"text-align: right;\">\n",
       "      <th></th>\n",
       "      <th>0</th>\n",
       "      <th>1</th>\n",
       "      <th>2</th>\n",
       "      <th>3</th>\n",
       "      <th>4</th>\n",
       "      <th>5</th>\n",
       "      <th>6</th>\n",
       "      <th>7</th>\n",
       "      <th>8</th>\n",
       "      <th>9</th>\n",
       "      <th>10</th>\n",
       "      <th>11</th>\n",
       "    </tr>\n",
       "  </thead>\n",
       "  <tbody>\n",
       "    <tr>\n",
       "      <th>0</th>\n",
       "      <td>0.000000</td>\n",
       "      <td>16.560495</td>\n",
       "      <td>10.583005</td>\n",
       "      <td>10.099505</td>\n",
       "      <td>11.000000</td>\n",
       "      <td>8.455767</td>\n",
       "      <td>6.855655</td>\n",
       "      <td>13.629013</td>\n",
       "      <td>11.067972</td>\n",
       "      <td>9.055385</td>\n",
       "      <td>9.246621</td>\n",
       "      <td>11.832160</td>\n",
       "    </tr>\n",
       "    <tr>\n",
       "      <th>1</th>\n",
       "      <td>16.560495</td>\n",
       "      <td>0.000000</td>\n",
       "      <td>15.692355</td>\n",
       "      <td>13.086252</td>\n",
       "      <td>14.309088</td>\n",
       "      <td>16.070159</td>\n",
       "      <td>18.391574</td>\n",
       "      <td>19.912308</td>\n",
       "      <td>15.500000</td>\n",
       "      <td>14.568802</td>\n",
       "      <td>16.575584</td>\n",
       "      <td>15.532225</td>\n",
       "    </tr>\n",
       "    <tr>\n",
       "      <th>2</th>\n",
       "      <td>10.583005</td>\n",
       "      <td>15.692355</td>\n",
       "      <td>0.000000</td>\n",
       "      <td>10.606602</td>\n",
       "      <td>12.469964</td>\n",
       "      <td>10.700467</td>\n",
       "      <td>11.726039</td>\n",
       "      <td>14.448183</td>\n",
       "      <td>12.727922</td>\n",
       "      <td>12.409674</td>\n",
       "      <td>10.000000</td>\n",
       "      <td>13.619838</td>\n",
       "    </tr>\n",
       "    <tr>\n",
       "      <th>3</th>\n",
       "      <td>10.099505</td>\n",
       "      <td>13.086252</td>\n",
       "      <td>10.606602</td>\n",
       "      <td>0.000000</td>\n",
       "      <td>8.774964</td>\n",
       "      <td>8.888194</td>\n",
       "      <td>10.606602</td>\n",
       "      <td>14.203873</td>\n",
       "      <td>13.747727</td>\n",
       "      <td>9.823441</td>\n",
       "      <td>10.747093</td>\n",
       "      <td>12.629331</td>\n",
       "    </tr>\n",
       "    <tr>\n",
       "      <th>4</th>\n",
       "      <td>11.000000</td>\n",
       "      <td>14.309088</td>\n",
       "      <td>12.469964</td>\n",
       "      <td>8.774964</td>\n",
       "      <td>0.000000</td>\n",
       "      <td>10.908712</td>\n",
       "      <td>12.409674</td>\n",
       "      <td>12.479984</td>\n",
       "      <td>12.469964</td>\n",
       "      <td>9.823441</td>\n",
       "      <td>11.335784</td>\n",
       "      <td>12.845233</td>\n",
       "    </tr>\n",
       "    <tr>\n",
       "      <th>5</th>\n",
       "      <td>8.455767</td>\n",
       "      <td>16.070159</td>\n",
       "      <td>10.700467</td>\n",
       "      <td>8.888194</td>\n",
       "      <td>10.908712</td>\n",
       "      <td>0.000000</td>\n",
       "      <td>8.031189</td>\n",
       "      <td>13.313527</td>\n",
       "      <td>12.589678</td>\n",
       "      <td>8.246211</td>\n",
       "      <td>9.924717</td>\n",
       "      <td>12.247449</td>\n",
       "    </tr>\n",
       "    <tr>\n",
       "      <th>6</th>\n",
       "      <td>6.855655</td>\n",
       "      <td>18.391574</td>\n",
       "      <td>11.726039</td>\n",
       "      <td>10.606602</td>\n",
       "      <td>12.409674</td>\n",
       "      <td>8.031189</td>\n",
       "      <td>0.000000</td>\n",
       "      <td>14.465476</td>\n",
       "      <td>13.057565</td>\n",
       "      <td>10.630146</td>\n",
       "      <td>9.617692</td>\n",
       "      <td>13.190906</td>\n",
       "    </tr>\n",
       "    <tr>\n",
       "      <th>7</th>\n",
       "      <td>13.629013</td>\n",
       "      <td>19.912308</td>\n",
       "      <td>14.448183</td>\n",
       "      <td>14.203873</td>\n",
       "      <td>12.479984</td>\n",
       "      <td>13.313527</td>\n",
       "      <td>14.465476</td>\n",
       "      <td>0.000000</td>\n",
       "      <td>14.256577</td>\n",
       "      <td>12.216792</td>\n",
       "      <td>12.816006</td>\n",
       "      <td>12.971122</td>\n",
       "    </tr>\n",
       "    <tr>\n",
       "      <th>8</th>\n",
       "      <td>11.067972</td>\n",
       "      <td>15.500000</td>\n",
       "      <td>12.727922</td>\n",
       "      <td>13.747727</td>\n",
       "      <td>12.469964</td>\n",
       "      <td>12.589678</td>\n",
       "      <td>13.057565</td>\n",
       "      <td>14.256577</td>\n",
       "      <td>0.000000</td>\n",
       "      <td>13.379088</td>\n",
       "      <td>12.825755</td>\n",
       "      <td>15.378556</td>\n",
       "    </tr>\n",
       "    <tr>\n",
       "      <th>9</th>\n",
       "      <td>9.055385</td>\n",
       "      <td>14.568802</td>\n",
       "      <td>12.409674</td>\n",
       "      <td>9.823441</td>\n",
       "      <td>9.823441</td>\n",
       "      <td>8.246211</td>\n",
       "      <td>10.630146</td>\n",
       "      <td>12.216792</td>\n",
       "      <td>13.379088</td>\n",
       "      <td>0.000000</td>\n",
       "      <td>9.219544</td>\n",
       "      <td>7.968689</td>\n",
       "    </tr>\n",
       "    <tr>\n",
       "      <th>10</th>\n",
       "      <td>9.246621</td>\n",
       "      <td>16.575584</td>\n",
       "      <td>10.000000</td>\n",
       "      <td>10.747093</td>\n",
       "      <td>11.335784</td>\n",
       "      <td>9.924717</td>\n",
       "      <td>9.617692</td>\n",
       "      <td>12.816006</td>\n",
       "      <td>12.825755</td>\n",
       "      <td>9.219544</td>\n",
       "      <td>0.000000</td>\n",
       "      <td>11.157957</td>\n",
       "    </tr>\n",
       "    <tr>\n",
       "      <th>11</th>\n",
       "      <td>11.832160</td>\n",
       "      <td>15.532225</td>\n",
       "      <td>13.619838</td>\n",
       "      <td>12.629331</td>\n",
       "      <td>12.845233</td>\n",
       "      <td>12.247449</td>\n",
       "      <td>13.190906</td>\n",
       "      <td>12.971122</td>\n",
       "      <td>15.378556</td>\n",
       "      <td>7.968689</td>\n",
       "      <td>11.157957</td>\n",
       "      <td>0.000000</td>\n",
       "    </tr>\n",
       "  </tbody>\n",
       "</table>\n",
       "</div>"
      ],
      "text/plain": [
       "           0          1          2          3          4          5   \\\n",
       "0    0.000000  16.560495  10.583005  10.099505  11.000000   8.455767   \n",
       "1   16.560495   0.000000  15.692355  13.086252  14.309088  16.070159   \n",
       "2   10.583005  15.692355   0.000000  10.606602  12.469964  10.700467   \n",
       "3   10.099505  13.086252  10.606602   0.000000   8.774964   8.888194   \n",
       "4   11.000000  14.309088  12.469964   8.774964   0.000000  10.908712   \n",
       "5    8.455767  16.070159  10.700467   8.888194  10.908712   0.000000   \n",
       "6    6.855655  18.391574  11.726039  10.606602  12.409674   8.031189   \n",
       "7   13.629013  19.912308  14.448183  14.203873  12.479984  13.313527   \n",
       "8   11.067972  15.500000  12.727922  13.747727  12.469964  12.589678   \n",
       "9    9.055385  14.568802  12.409674   9.823441   9.823441   8.246211   \n",
       "10   9.246621  16.575584  10.000000  10.747093  11.335784   9.924717   \n",
       "11  11.832160  15.532225  13.619838  12.629331  12.845233  12.247449   \n",
       "\n",
       "           6          7          8          9          10         11  \n",
       "0    6.855655  13.629013  11.067972   9.055385   9.246621  11.832160  \n",
       "1   18.391574  19.912308  15.500000  14.568802  16.575584  15.532225  \n",
       "2   11.726039  14.448183  12.727922  12.409674  10.000000  13.619838  \n",
       "3   10.606602  14.203873  13.747727   9.823441  10.747093  12.629331  \n",
       "4   12.409674  12.479984  12.469964   9.823441  11.335784  12.845233  \n",
       "5    8.031189  13.313527  12.589678   8.246211   9.924717  12.247449  \n",
       "6    0.000000  14.465476  13.057565  10.630146   9.617692  13.190906  \n",
       "7   14.465476   0.000000  14.256577  12.216792  12.816006  12.971122  \n",
       "8   13.057565  14.256577   0.000000  13.379088  12.825755  15.378556  \n",
       "9   10.630146  12.216792  13.379088   0.000000   9.219544   7.968689  \n",
       "10   9.617692  12.816006  12.825755   9.219544   0.000000  11.157957  \n",
       "11  13.190906  12.971122  15.378556   7.968689  11.157957   0.000000  "
      ]
     },
     "execution_count": 199,
     "metadata": {},
     "output_type": "execute_result"
    }
   ],
   "source": [
    "#compare pictures\n",
    "potentials(pics)"
   ]
  },
  {
   "cell_type": "code",
   "execution_count": 221,
   "metadata": {},
   "outputs": [
    {
     "name": "stdout",
     "output_type": "stream",
     "text": [
      "real pattern\n"
     ]
    },
    {
     "data": {
      "image/png": "[encoded data removed]",
      "text/plain": [
       "<Figure size 432x288 with 1 Axes>"
      ]
     },
     "metadata": {},
     "output_type": "display_data"
    },
    {
     "name": "stdout",
     "output_type": "stream",
     "text": [
      "found match\n"
     ]
    },
    {
     "data": {
      "image/png": "[encoded data removed]",
      "text/plain": [
       "<Figure size 432x288 with 1 Axes>"
      ]
     },
     "metadata": {},
     "output_type": "display_data"
    },
    {
     "name": "stdout",
     "output_type": "stream",
     "text": [
      "The best pattern that was selected based on potential was marked.\n"
     ]
    },
    {
     "data": {
      "image/png": "[encoded data removed]",
      "text/plain": [
       "<Figure size 432x288 with 1 Axes>"
      ]
     },
     "metadata": {},
     "output_type": "display_data"
    }
   ],
   "source": [
    "# find patterns\n",
    "display_potential_method(pics[7])"
   ]
  }
 ],
 "metadata": {
  "kernelspec": {
   "display_name": "Python 3",
   "language": "python",
   "name": "python3"
  },
  "language_info": {
   "codemirror_mode": {
    "name": "ipython",
    "version": 3
   },
   "file_extension": ".py",
   "mimetype": "text/x-python",
   "name": "python",
   "nbconvert_exporter": "python",
   "pygments_lexer": "ipython3",
   "version": "3.6.8"
  }
 },
 "nbformat": 4,
 "nbformat_minor": 2
}
